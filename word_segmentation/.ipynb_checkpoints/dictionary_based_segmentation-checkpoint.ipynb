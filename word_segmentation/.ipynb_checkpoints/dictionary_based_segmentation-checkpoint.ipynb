{
 "cells": [
  {
   "cell_type": "code",
   "execution_count": 1,
   "id": "619559bb-8fa3-4bfb-82d5-45c9acba05ee",
   "metadata": {},
   "outputs": [],
   "source": [
    "def forward_max_matching(vocab, sentence):\n",
    "\n",
    "        fmmresult = []  # 存储分词结果的列表\n",
    "        max_len = max([len(item) for item in vocab])  # 获取词典中最长词的长度\\n\",\n",
    "        start = 0  # 分词的起始位置\\n\",\n",
    "    \n",
    "        # 开始遍历句子，直到处理完整个句子\\n\",\n",
    "        while start != len(sentence):\n",
    "            index = start + max_len  # 尝试匹配最大长度的词\\n\",\n",
    "            if index > len(sentence):  # 如果索引超出句子长度，修正为句子末尾\\n\",\n",
    "                index = len(sentence)\n",
    "    \n",
    "           # 从当前起始位置尝试从最大长度开始逐步缩小词的长度进行匹配\\n\",\n",
    "            while index > start:\n",
    "                current_substr = sentence[start:index]  # 截取当前子串\\n\",\n",
    "                # 如果子串在词典中，或者子串长度为1，则认为是一个有效词\\n\",\n",
    "                if current_substr in vocab or len(current_substr) == 1:\n",
    "                    fmmresult.append(current_substr)  # 将有效词加入结果列表\\n\",\n",
    "                    start = index  # 更新起始位置，跳过已处理的部分\\n\",\n",
    "                    break  # 找到一个有效词后跳出内层循环继续处理下一个子串\\n\",\n",
    "                index -= 1  # 如果没有匹配到有效词，缩短子串长度再试\\n\",\n",
    "    \n",
    "        return fmmresult  # 返回最终的分词结果\""
   ]
  },
  {
   "cell_type": "code",
   "execution_count": 2,
   "id": "9afd611c-8900-463e-924c-e2d55f65c49f",
   "metadata": {},
   "outputs": [],
   "source": [
    " def reverse_directional_max_matching(vocab, sentence):\n",
    "\n",
    "        rmmresult = []  # 存储分词结果\\n\",\n",
    "        max_len = max([len(item) for item in vocab])  # 获取词典中最大词的长度\\n\",\n",
    "        start = len(sentence)  # 从句子的末尾开始\\n\",\n",
    "    \n",
    "        while start != 0:  # 直到处理完整个句子\\n\",\n",
    "            index = start - max_len  # 尝试从当前位置往前推最大长度的子串\\n\",\n",
    "            if index < 0:\n",
    "                index = 0  # 防止下标越界，调整为从0开始\\n\",\n",
    "  \n",
    "            while index < start:  # 向前查找直到找到匹配的词\\n\",\n",
    "                current_substr = sentence[index:start]  # 截取当前子串\\n\",\n",
    "   \n",
    "                # 如果当前子串在词典中，或当前子串长度为1（即单个字符）\\n\",\n",
    "                if current_substr in vocab or len(current_substr) == 1:\n",
    "                    rmmresult.insert(0, current_substr)  # 匹配成功，插入到结果列表的开头\\n\",\n",
    "                    start = index  # 更新起始位置，继续向前匹配\\n\",\n",
    "                    break  # 找到一个词后跳出内层循环\\n\",\n",
    "                index += 1  # 如果当前子串没有匹配，向前移动一个字符继续尝试\\n\",\n",
    "  \n",
    "        return rmmresult  # 返回最终的分词结果\""
   ]
  },
  {
   "cell_type": "code",
   "execution_count": 3,
   "id": "66e3c75d-49cc-44f5-8e1a-4d19e5bb96b4",
   "metadata": {},
   "outputs": [],
   "source": [
    "    def bi_directional_matching(vocab, sentence):\n",
    "        # 获取正向和反向最大匹配的分词结果\\n\",\n",
    "        res1 = forward_max_matching(vocab, sentence)\n",
    "        res2 = reverse_directional_max_matching(vocab, sentence)\n",
    "    \n",
    "        len_res1, len_res2 = len(res1), len(res2)  # 保存长度\\n\",\n",
    "    \n",
    "        # 如果两个结果的长度相同\\n\",\n",
    "        if len_res1 == len_res2:\n",
    "            # 如果两个结果相同，直接返回\\n\",\n",
    "            if res1 == res2:\n",
    "                return res1\n",
    "            else:\n",
    "                # 统计每个结果中长度为1的词的数量\\n\",\n",
    "                res1_sn = sum(1 for i in res1 if len(i) == 1)\n",
    "                res2_sn = sum(1 for i in res2 if len(i) == 1)\n",
    "                # 返回包含较少单字符词的结果\\n\",\n",
    "                return res1 if res1_sn < res2_sn else res2\n",
    "        else:\n",
    "            # 返回词数较少的结果\\n\",\n",
    "            return res1 if len_res1 < len_res2 else res2"
   ]
  },
  {
   "cell_type": "code",
   "execution_count": 4,
   "id": "25373cc5-3e72-404f-a35c-60a1aed5d4c2",
   "metadata": {},
   "outputs": [],
   "source": [
    "    vocab = ['我们', '今天', '在', '野生动物园', '玩']\n",
    "    sentence = '我们是今天在野生动物园玩了'"
   ]
  },
  {
   "cell_type": "code",
   "execution_count": 5,
   "id": "486baae1-8120-4ab0-8ea0-d08b8b70a56e",
   "metadata": {},
   "outputs": [
    {
     "name": "stdout",
     "output_type": "stream",
     "text": [
      "['我们', '是', '今天', '在', '野生动物园', '玩', '了']\n",
      "['我们', '是', '今天', '在', '野生动物园', '玩', '了']\n"
     ]
    }
   ],
   "source": [
    "    fmm_result = forward_max_matching(vocab, sentence)\n",
    "    rmm_result = reverse_directional_max_matching(vocab, sentence)\n",
    "    print(fmm_result)\n",
    "    print(rmm_result)"
   ]
  },
  {
   "cell_type": "code",
   "execution_count": 6,
   "id": "ee434468-04b5-4124-a527-337f0f3e1c41",
   "metadata": {},
   "outputs": [
    {
     "name": "stdout",
     "output_type": "stream",
     "text": [
      "['我们', '是', '今天', '在', '野生动物园', '玩', '了']\n"
     ]
    }
   ],
   "source": [
    "    bm_result = bi_directional_matching(vocab, sentence)\n",
    "    print(bm_result)"
   ]
  },
  {
   "cell_type": "code",
   "execution_count": null,
   "id": "fb06919d-9dc5-4d82-ad44-b68984e795f8",
   "metadata": {},
   "outputs": [],
   "source": []
  },
  {
   "cell_type": "code",
   "execution_count": null,
   "id": "3a7e8a69-a5a1-461c-989d-af16295f62aa",
   "metadata": {},
   "outputs": [],
   "source": []
  }
 ],
 "metadata": {
  "kernelspec": {
   "display_name": "Python 3 (ipykernel)",
   "language": "python",
   "name": "python3"
  },
  "language_info": {
   "codemirror_mode": {
    "name": "ipython",
    "version": 3
   },
   "file_extension": ".py",
   "mimetype": "text/x-python",
   "name": "python",
   "nbconvert_exporter": "python",
   "pygments_lexer": "ipython3",
   "version": "3.9.21"
  }
 },
 "nbformat": 4,
 "nbformat_minor": 5
}
